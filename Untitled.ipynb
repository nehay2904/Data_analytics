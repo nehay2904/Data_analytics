{
 "cells": [
  {
   "cell_type": "code",
   "execution_count": 1,
   "id": "fc02b245",
   "metadata": {},
   "outputs": [],
   "source": [
    "# objective : factors affect  the layoffs in companies"
   ]
  },
  {
   "cell_type": "code",
   "execution_count": 2,
   "id": "fe54ce4d",
   "metadata": {},
   "outputs": [],
   "source": [
    "# importing the libraries\n",
    "\n",
    "import pandas as pd\n",
    "import matplotlib.pyplot as plt\n",
    "import seaborn as sns\n",
    "import warnings\n",
    "warnings.filterwarnings('ignore')\n",
    "\n",
    "# loading the data set\n",
    "\n",
    "df = pd.read_csv('layoffs_data.csv')"
   ]
  },
  {
   "cell_type": "code",
   "execution_count": 3,
   "id": "1b0567d8",
   "metadata": {},
   "outputs": [
    {
     "data": {
      "text/html": [
       "<div>\n",
       "<style scoped>\n",
       "    .dataframe tbody tr th:only-of-type {\n",
       "        vertical-align: middle;\n",
       "    }\n",
       "\n",
       "    .dataframe tbody tr th {\n",
       "        vertical-align: top;\n",
       "    }\n",
       "\n",
       "    .dataframe thead th {\n",
       "        text-align: right;\n",
       "    }\n",
       "</style>\n",
       "<table border=\"1\" class=\"dataframe\">\n",
       "  <thead>\n",
       "    <tr style=\"text-align: right;\">\n",
       "      <th></th>\n",
       "      <th>Company</th>\n",
       "      <th>Location_HQ</th>\n",
       "      <th>Industry</th>\n",
       "      <th>Percentage</th>\n",
       "      <th>Date</th>\n",
       "      <th>Source</th>\n",
       "      <th>Funds_Raised</th>\n",
       "      <th>Stage</th>\n",
       "      <th>Date_Added</th>\n",
       "      <th>Country</th>\n",
       "      <th>Laid_Off_Count</th>\n",
       "      <th>List_of_Employees_Laid_Off</th>\n",
       "    </tr>\n",
       "  </thead>\n",
       "  <tbody>\n",
       "    <tr>\n",
       "      <th>0</th>\n",
       "      <td>IRL</td>\n",
       "      <td>SF Bay Area</td>\n",
       "      <td>Consumer</td>\n",
       "      <td>1.00</td>\n",
       "      <td>2023-06-23</td>\n",
       "      <td>https://www.theinformation.com/articles/social...</td>\n",
       "      <td>197.0</td>\n",
       "      <td>Series C</td>\n",
       "      <td>2023-06-25 23:04:16</td>\n",
       "      <td>United States</td>\n",
       "      <td>NaN</td>\n",
       "      <td>Unknown</td>\n",
       "    </tr>\n",
       "    <tr>\n",
       "      <th>1</th>\n",
       "      <td>Retool</td>\n",
       "      <td>SF Bay Area</td>\n",
       "      <td>Other</td>\n",
       "      <td>0.09</td>\n",
       "      <td>2023-06-22</td>\n",
       "      <td>Internal memo</td>\n",
       "      <td>141.0</td>\n",
       "      <td>Series C</td>\n",
       "      <td>2023-06-22 14:23:40</td>\n",
       "      <td>United States</td>\n",
       "      <td>NaN</td>\n",
       "      <td>Unknown</td>\n",
       "    </tr>\n",
       "    <tr>\n",
       "      <th>2</th>\n",
       "      <td>Anaplan</td>\n",
       "      <td>SF Bay Area</td>\n",
       "      <td>Other</td>\n",
       "      <td>NaN</td>\n",
       "      <td>2023-06-21</td>\n",
       "      <td>https://nypost.com/2023/06/23/software-giant-a...</td>\n",
       "      <td>300.0</td>\n",
       "      <td>Acquired</td>\n",
       "      <td>2023-06-24 03:48:00</td>\n",
       "      <td>United States</td>\n",
       "      <td>300.0</td>\n",
       "      <td>Unknown</td>\n",
       "    </tr>\n",
       "    <tr>\n",
       "      <th>3</th>\n",
       "      <td>Uber</td>\n",
       "      <td>SF Bay Area</td>\n",
       "      <td>Transportation</td>\n",
       "      <td>NaN</td>\n",
       "      <td>2023-06-21</td>\n",
       "      <td>https://www.nasdaq.com/articles/uber-to-lay-of...</td>\n",
       "      <td>25200.0</td>\n",
       "      <td>Post-IPO</td>\n",
       "      <td>2023-06-22 00:19:03</td>\n",
       "      <td>United States</td>\n",
       "      <td>200.0</td>\n",
       "      <td>Unknown</td>\n",
       "    </tr>\n",
       "    <tr>\n",
       "      <th>4</th>\n",
       "      <td>Tackle.io</td>\n",
       "      <td>Boise</td>\n",
       "      <td>Infrastructure</td>\n",
       "      <td>NaN</td>\n",
       "      <td>2023-06-21</td>\n",
       "      <td>https://tackle.io/blog/tackle-company-update/</td>\n",
       "      <td>148.0</td>\n",
       "      <td>Series C</td>\n",
       "      <td>2023-06-23 15:38:59</td>\n",
       "      <td>United States</td>\n",
       "      <td>75.0</td>\n",
       "      <td>Unknown</td>\n",
       "    </tr>\n",
       "  </tbody>\n",
       "</table>\n",
       "</div>"
      ],
      "text/plain": [
       "     Company  Location_HQ        Industry  Percentage        Date  \\\n",
       "0        IRL  SF Bay Area        Consumer        1.00  2023-06-23   \n",
       "1     Retool  SF Bay Area           Other        0.09  2023-06-22   \n",
       "2    Anaplan  SF Bay Area           Other         NaN  2023-06-21   \n",
       "3       Uber  SF Bay Area  Transportation         NaN  2023-06-21   \n",
       "4  Tackle.io        Boise  Infrastructure         NaN  2023-06-21   \n",
       "\n",
       "                                              Source  Funds_Raised     Stage  \\\n",
       "0  https://www.theinformation.com/articles/social...         197.0  Series C   \n",
       "1                                      Internal memo         141.0  Series C   \n",
       "2  https://nypost.com/2023/06/23/software-giant-a...         300.0  Acquired   \n",
       "3  https://www.nasdaq.com/articles/uber-to-lay-of...       25200.0  Post-IPO   \n",
       "4      https://tackle.io/blog/tackle-company-update/         148.0  Series C   \n",
       "\n",
       "            Date_Added        Country  Laid_Off_Count  \\\n",
       "0  2023-06-25 23:04:16  United States             NaN   \n",
       "1  2023-06-22 14:23:40  United States             NaN   \n",
       "2  2023-06-24 03:48:00  United States           300.0   \n",
       "3  2023-06-22 00:19:03  United States           200.0   \n",
       "4  2023-06-23 15:38:59  United States            75.0   \n",
       "\n",
       "  List_of_Employees_Laid_Off  \n",
       "0                    Unknown  \n",
       "1                    Unknown  \n",
       "2                    Unknown  \n",
       "3                    Unknown  \n",
       "4                    Unknown  "
      ]
     },
     "execution_count": 3,
     "metadata": {},
     "output_type": "execute_result"
    }
   ],
   "source": [
    "df.head()"
   ]
  },
  {
   "cell_type": "code",
   "execution_count": 6,
   "id": "32320714",
   "metadata": {},
   "outputs": [
    {
     "data": {
      "text/plain": [
       "(2738, 12)"
      ]
     },
     "execution_count": 6,
     "metadata": {},
     "output_type": "execute_result"
    }
   ],
   "source": [
    "# look for the numbers of row and column in dataset\n",
    "\n",
    "df.shape\n"
   ]
  },
  {
   "cell_type": "code",
   "execution_count": null,
   "id": "42bcb023",
   "metadata": {},
   "outputs": [],
   "source": []
  }
 ],
 "metadata": {
  "kernelspec": {
   "display_name": "Python 3 (ipykernel)",
   "language": "python",
   "name": "python3"
  },
  "language_info": {
   "codemirror_mode": {
    "name": "ipython",
    "version": 3
   },
   "file_extension": ".py",
   "mimetype": "text/x-python",
   "name": "python",
   "nbconvert_exporter": "python",
   "pygments_lexer": "ipython3",
   "version": "3.10.9"
  }
 },
 "nbformat": 4,
 "nbformat_minor": 5
}
